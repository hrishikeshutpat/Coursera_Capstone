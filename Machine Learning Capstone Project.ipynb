{
    "cells": [
        {
            "cell_type": "markdown",
            "metadata": {
                "collapsed": true
            },
            "source": "<h1>Machine Learning Capstone Project</h1>"
        },
        {
            "cell_type": "markdown",
            "metadata": {},
            "source": "<h3> This notebook will be used for the Coursera IBM Certification - Machine Learning Capstone Project </h3>"
        },
        {
            "cell_type": "code",
            "execution_count": null,
            "metadata": {},
            "outputs": [],
            "source": "#---Installations as Required---\n!pip install beautifulsoup4"
        },
        {
            "cell_type": "code",
            "execution_count": 1,
            "metadata": {},
            "outputs": [],
            "source": "#---Importing Packages---\nimport pandas as pd\nimport numpy as np\nfrom bs4 import BeautifulSoup\nimport requests"
        },
        {
            "cell_type": "markdown",
            "metadata": {},
            "source": "<h2>Segmenting and Clustering Neighborhoods in Toronto</h2>\n\n<h3>The following section of the notebook will be used for the execution of the questions raised in the Week 3 Peer Graded Assignment</h3>"
        },
        {
            "cell_type": "code",
            "execution_count": 18,
            "metadata": {},
            "outputs": [],
            "source": "#---Downloading Data from Wikipedia Using Beautiful Soup---\n\nurl = 'https://en.wikipedia.org/wiki/List_of_postal_codes_of_Canada:_M'\nhtml_content = requests.get(url).text\nsoup = BeautifulSoup(html_content, 'html')\n\ntable_data = soup.find(\"table\", attrs={\"class\":\"wikitable\"})\ntable_rows = table_data.tbody.find_all(\"tr\")\ntable_contents = table_data.tbody.find_all(\"td\")\n\nheadings = []\nfor td in table_rows[0].find_all(\"th\"):\n    headings.append(td.string.replace('\\n', ''))\n\ncontents = []\nfor tc in table_contents:\n    contents.append(tc.string.replace('\\n', ''))\n\n#---Generating Dataframe & Cleaning Data---\n    \ndf = pd.DataFrame(columns = headings)\ndf['Postal Code'] = contents[::3]\ndf['Borough'] = contents[1::3]\ndf['Neighborhood'] = contents[2::3]\ndf = df[df['Borough'] != 'Not assigned']\ndf.reset_index(inplace = True, drop = True)"
        },
        {
            "cell_type": "code",
            "execution_count": 20,
            "metadata": {},
            "outputs": [
                {
                    "data": {
                        "text/plain": "(103, 3)"
                    },
                    "execution_count": 20,
                    "metadata": {},
                    "output_type": "execute_result"
                }
            ],
            "source": "df.shape"
        },
        {
            "cell_type": "code",
            "execution_count": null,
            "metadata": {},
            "outputs": [],
            "source": ""
        },
        {
            "cell_type": "code",
            "execution_count": null,
            "metadata": {},
            "outputs": [],
            "source": ""
        },
        {
            "cell_type": "code",
            "execution_count": null,
            "metadata": {},
            "outputs": [],
            "source": ""
        }
    ],
    "metadata": {
        "kernelspec": {
            "display_name": "Python 3.6",
            "language": "python",
            "name": "python3"
        },
        "language_info": {
            "codemirror_mode": {
                "name": "ipython",
                "version": 3
            },
            "file_extension": ".py",
            "mimetype": "text/x-python",
            "name": "python",
            "nbconvert_exporter": "python",
            "pygments_lexer": "ipython3",
            "version": "3.6.9"
        }
    },
    "nbformat": 4,
    "nbformat_minor": 1
}